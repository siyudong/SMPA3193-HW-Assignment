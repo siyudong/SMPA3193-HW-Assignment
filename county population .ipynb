{
 "cells": [
  {
   "cell_type": "code",
   "execution_count": 1,
   "metadata": {
    "collapsed": false
   },
   "outputs": [
    {
     "name": "stdout",
     "output_type": "stream",
     "text": [
      "| column        | data_type |\n",
      "| ------------- | --------- |\n",
      "| county        | Text      |\n",
      "| state         | Text      |\n",
      "| estimate_2010 | Number    |\n",
      "| estimate_2011 | Number    |\n",
      "| estimate_2012 | Number    |\n",
      "| estimate_2013 | Number    |\n",
      "| estimate_2014 | Number    |\n",
      "| estimate_2015 | Number    |\n",
      "\n"
     ]
    },
    {
     "name": "stderr",
     "output_type": "stream",
     "text": [
      "/System/Library/Frameworks/Python.framework/Versions/2.7/lib/python2.7/json/encoder.py:207: DeprecationWarning: Interpreting naive datetime as local 2017-03-05 12:26:22.885795. Please add timezone info to timestamps.\n"
     ]
    }
   ],
   "source": [
    "import agate\n",
    "counties = agate.Table.from_csv(\"county_population.csv\")\n",
    "print counties"
   ]
  },
  {
   "cell_type": "code",
   "execution_count": 2,
   "metadata": {
    "collapsed": false
   },
   "outputs": [
    {
     "name": "stderr",
     "output_type": "stream",
     "text": [
      "/System/Library/Frameworks/Python.framework/Versions/2.7/lib/python2.7/json/encoder.py:207: DeprecationWarning: Interpreting naive datetime as local 2017-03-05 12:26:58.502414. Please add timezone info to timestamps.\n"
     ]
    }
   ],
   "source": [
    "popchange1016 = counties.compute([\n",
    "    ('change', agate.PercentChange('estimate_2010', 'estimate_2015'))\n",
    "])"
   ]
  },
  {
   "cell_type": "code",
   "execution_count": 3,
   "metadata": {
    "collapsed": false
   },
   "outputs": [
    {
     "name": "stdout",
     "output_type": "stream",
     "text": [
      "1.256860592755214050493962678\n"
     ]
    },
    {
     "name": "stderr",
     "output_type": "stream",
     "text": [
      "/System/Library/Frameworks/Python.framework/Versions/2.7/lib/python2.7/json/encoder.py:207: DeprecationWarning: Interpreting naive datetime as local 2017-03-05 12:27:27.851815. Please add timezone info to timestamps.\n"
     ]
    }
   ],
   "source": [
    "print popchange1016[0]['change']"
   ]
  },
  {
   "cell_type": "code",
   "execution_count": 4,
   "metadata": {
    "collapsed": false
   },
   "outputs": [
    {
     "name": "stderr",
     "output_type": "stream",
     "text": [
      "/System/Library/Frameworks/Python.framework/Versions/2.7/lib/python2.7/json/encoder.py:207: DeprecationWarning: Interpreting naive datetime as local 2017-03-05 12:28:28.663911. Please add timezone info to timestamps.\n"
     ]
    }
   ],
   "source": [
    "from decimal import Decimal\n",
    "\n",
    "def round_change(row):\n",
    "    return row['change'].quantize(Decimal('0.1'))\n",
    "\n",
    "rounded_change = popchange1016.compute([\n",
    "    ('change_rounded', agate.Formula(agate.Number(), round_change))\n",
    "])"
   ]
  },
  {
   "cell_type": "code",
   "execution_count": 5,
   "metadata": {
    "collapsed": false
   },
   "outputs": [
    {
     "name": "stdout",
     "output_type": "stream",
     "text": [
      "1.3\n"
     ]
    },
    {
     "name": "stderr",
     "output_type": "stream",
     "text": [
      "/System/Library/Frameworks/Python.framework/Versions/2.7/lib/python2.7/json/encoder.py:207: DeprecationWarning: Interpreting naive datetime as local 2017-03-05 12:28:40.005607. Please add timezone info to timestamps.\n"
     ]
    }
   ],
   "source": [
    "print rounded_change[0]['change_rounded']"
   ]
  },
  {
   "cell_type": "code",
   "execution_count": 6,
   "metadata": {
    "collapsed": false
   },
   "outputs": [
    {
     "name": "stdout",
     "output_type": "stream",
     "text": [
      "| county              | state          | change_rounded |\n",
      "| ------------------- | -------------- | -------------- |\n",
      "| McKenzie County     | North Dakota   |          100.4 |\n",
      "| Williams County     | North Dakota   |           56.3 |\n",
      "| Loving County       | Texas          |           34.9 |\n",
      "| Mountrail County    | North Dakota   |           33.8 |\n",
      "| Stark County        | North Dakota   |           32.0 |\n",
      "| Dunn County         | North Dakota   |           31.2 |\n",
      "| Sumter County       | Florida        |           26.1 |\n",
      "| Wasatch County      | Utah           |           23.4 |\n",
      "| St. Bernard Parish  | Louisiana      |           23.4 |\n",
      "| Hays County         | Texas          |           23.0 |\n",
      "| Richland County     | Montana        |           22.7 |\n",
      "| Andrews County      | Texas          |           22.0 |\n",
      "| Billings County     | North Dakota   |           21.4 |\n",
      "| Fort Bend County    | Texas          |           21.3 |\n",
      "| Long County         | Georgia        |           20.7 |\n",
      "| Forsyth County      | Georgia        |           20.2 |\n",
      "| Dallas County       | Iowa           |           20.1 |\n",
      "| Osceola County      | Florida        |           20.1 |\n",
      "| Kendall County      | Texas          |           20.0 |\n",
      "| Williamson County   | Texas          |           19.2 |\n",
      "| Loudoun County      | Virginia       |           19.0 |\n",
      "| Sterling County     | Texas          |           18.8 |\n",
      "| St. Johns County    | Florida        |           18.5 |\n",
      "| Comal County        | Texas          |           18.1 |\n",
      "| Divide County       | North Dakota   |           17.9 |\n",
      "| Burke County        | North Dakota   |           17.8 |\n",
      "| Midland County      | Texas          |           17.6 |\n",
      "| Martin County       | Texas          |           17.1 |\n",
      "| Denton County       | Texas          |           17.0 |\n",
      "| Montgomery County   | Texas          |           17.0 |\n",
      "| Lincoln County      | South Dakota   |           17.0 |\n",
      "| Uintah County       | Utah           |           16.9 |\n",
      "| Ector County        | Texas          |           16.3 |\n",
      "| Fredericksburg city | Virginia       |           16.2 |\n",
      "| Morgan County       | Utah           |           16.1 |\n",
      "| Collin County       | Texas          |           15.9 |\n",
      "| Broomfield County   | Colorado       |           15.6 |\n",
      "| Bryan County        | Georgia        |           15.6 |\n",
      "| Columbia County     | Georgia        |           15.3 |\n",
      "| Crane County        | Texas          |           15.3 |\n",
      "| McMullen County     | Texas          |           15.2 |\n",
      "| Rockwall County     | Texas          |           15.1 |\n",
      "| Williamson County   | Tennessee      |           15.0 |\n",
      "| Walton County       | Florida        |           15.0 |\n",
      "| Ward County         | North Dakota   |           14.8 |\n",
      "| Canadian County     | Oklahoma       |           14.6 |\n",
      "| Horry County        | South Carolina |           14.3 |\n",
      "| Greenlee County     | Arizona        |           14.3 |\n",
      "| Travis County       | Texas          |           14.2 |\n",
      "| Cass County         | North Dakota   |           14.1 |\n",
      "| ...                 | ...            |            ... |\n"
     ]
    },
    {
     "name": "stderr",
     "output_type": "stream",
     "text": [
      "/System/Library/Frameworks/Python.framework/Versions/2.7/lib/python2.7/json/encoder.py:207: DeprecationWarning: Interpreting naive datetime as local 2017-03-05 12:28:57.957896. Please add timezone info to timestamps.\n"
     ]
    }
   ],
   "source": [
    "sorted_counties = rounded_change.order_by('change', reverse=True)\n",
    "sorted_counties.select(['county', 'state', 'change_rounded']).print_table(max_rows=50)"
   ]
  },
  {
   "cell_type": "code",
   "execution_count": 17,
   "metadata": {
    "collapsed": false
   },
   "outputs": [
    {
     "name": "stdout",
     "output_type": "stream",
     "text": [
      "| county               | state        | change_rounded |\n",
      "| -------------------- | ------------ | -------------- |\n",
      "| McKenzie County      | North Dakota |          100.4 |\n",
      "| Williams County      | North Dakota |           56.3 |\n",
      "| Mountrail County     | North Dakota |           33.8 |\n",
      "| Stark County         | North Dakota |           32.0 |\n",
      "| Dunn County          | North Dakota |           31.2 |\n",
      "| Billings County      | North Dakota |           21.4 |\n",
      "| Divide County        | North Dakota |           17.9 |\n",
      "| Burke County         | North Dakota |           17.8 |\n",
      "| Ward County          | North Dakota |           14.8 |\n",
      "| Cass County          | North Dakota |           14.1 |\n",
      "| Burleigh County      | North Dakota |           13.8 |\n",
      "| McHenry County       | North Dakota |           10.6 |\n",
      "| Morton County        | North Dakota |            9.9 |\n",
      "| Golden Valley County | North Dakota |            9.6 |\n",
      "| Hettinger County     | North Dakota |            9.3 |\n",
      "| McLean County        | North Dakota |            8.4 |\n",
      "| Grand Forks County   | North Dakota |            5.9 |\n",
      "| Sioux County         | North Dakota |            5.3 |\n",
      "| Slope County         | North Dakota |            5.2 |\n",
      "| Mercer County        | North Dakota |            5.1 |\n",
      "| ...                  | ...          |            ... |\n"
     ]
    },
    {
     "name": "stderr",
     "output_type": "stream",
     "text": [
      "/System/Library/Frameworks/Python.framework/Versions/2.7/lib/python2.7/json/encoder.py:207: DeprecationWarning: Interpreting naive datetime as local 2017-03-05 12:48:01.353503. Please add timezone info to timestamps.\n"
     ]
    }
   ],
   "source": [
    "ND_counties = sorted_counties.where(lambda r: r['state'] == 'North Dakota')\n",
    "ND_counties.select(['county', 'state', 'change_rounded']).print_table()"
   ]
  },
  {
   "cell_type": "code",
   "execution_count": 19,
   "metadata": {
    "collapsed": false,
    "scrolled": true
   },
   "outputs": [
    {
     "name": "stdout",
     "output_type": "stream",
     "text": [
      "| county              | state         | change_rounded |\n",
      "| ------------------- | ------------- | -------------- |\n",
      "| Alexander County    | Illinois      |          -17.5 |\n",
      "| Terrell County      | Texas         |          -17.0 |\n",
      "| Butte County        | Idaho         |          -14.0 |\n",
      "| Presidio County     | Texas         |          -12.7 |\n",
      "| Lee County          | Kentucky      |          -12.4 |\n",
      "| McPherson County    | Nebraska      |          -11.5 |\n",
      "| Macon County        | Alabama       |          -11.3 |\n",
      "| Bristol Bay Borough | Alaska        |          -11.0 |\n",
      "| Ontonagon County    | Michigan      |          -10.9 |\n",
      "| Bent County         | Colorado      |          -10.4 |\n",
      "| Dundy County        | Nebraska      |          -10.4 |\n",
      "| McDowell County     | West Virginia |          -10.1 |\n",
      "| Clark County        | Idaho         |          -10.1 |\n",
      "| Lassen County       | California    |          -10.0 |\n",
      "| Phillips County     | Arkansas      |           -9.9 |\n",
      "| Cimarron County     | Oklahoma      |           -9.8 |\n",
      "| Dickens County      | Texas         |           -9.8 |\n",
      "| Colfax County       | New Mexico    |           -9.6 |\n",
      "| De Baca County      | New Mexico    |           -9.4 |\n",
      "| Elk County          | Kansas        |           -9.3 |\n",
      "| ...                 | ...           |            ... |\n"
     ]
    },
    {
     "name": "stderr",
     "output_type": "stream",
     "text": [
      "/System/Library/Frameworks/Python.framework/Versions/2.7/lib/python2.7/json/encoder.py:207: DeprecationWarning: Interpreting naive datetime as local 2017-03-06 18:37:40.015593. Please add timezone info to timestamps.\n"
     ]
    }
   ],
   "source": [
    "smallest_counties = rounded_change.order_by('change')\n",
    "smallest_counties.select(['county', 'state', 'change_rounded']).print_table()"
   ]
  },
  {
   "cell_type": "code",
   "execution_count": 20,
   "metadata": {
    "collapsed": false
   },
   "outputs": [
    {
     "name": "stdout",
     "output_type": "stream",
     "text": [
      "| county               | state          | estimate_2015 |\n",
      "| -------------------- | -------------- | ------------- |\n",
      "| Los Angeles County   | California     |    10,170,292 |\n",
      "| Cook County          | Illinois       |     5,238,216 |\n",
      "| Harris County        | Texas          |     4,538,028 |\n",
      "| Maricopa County      | Arizona        |     4,167,947 |\n",
      "| San Diego County     | California     |     3,299,521 |\n",
      "| Orange County        | California     |     3,169,776 |\n",
      "| Miami-Dade County    | Florida        |     2,693,117 |\n",
      "| Kings County         | New York       |     2,636,735 |\n",
      "| Dallas County        | Texas          |     2,553,385 |\n",
      "| Riverside County     | California     |     2,361,026 |\n",
      "| Queens County        | New York       |     2,339,150 |\n",
      "| San Bernardino Co... | California     |     2,128,133 |\n",
      "| King County          | Washington     |     2,117,125 |\n",
      "| Clark County         | Nevada         |     2,114,801 |\n",
      "| Tarrant County       | Texas          |     1,982,498 |\n",
      "| Santa Clara County   | California     |     1,918,044 |\n",
      "| Bexar County         | Texas          |     1,897,753 |\n",
      "| Broward County       | Florida        |     1,896,425 |\n",
      "| Wayne County         | Michigan       |     1,759,335 |\n",
      "| New York County      | New York       |     1,644,518 |\n",
      "| Alameda County       | California     |     1,638,215 |\n",
      "| Middlesex County     | Massachusetts  |     1,585,139 |\n",
      "| Philadelphia County  | Pennsylvania   |     1,567,442 |\n",
      "| Suffolk County       | New York       |     1,501,587 |\n",
      "| Sacramento County    | California     |     1,501,335 |\n",
      "| Bronx County         | New York       |     1,455,444 |\n",
      "| Palm Beach County    | Florida        |     1,422,789 |\n",
      "| Nassau County        | New York       |     1,361,350 |\n",
      "| Hillsborough County  | Florida        |     1,349,050 |\n",
      "| Orange County        | Florida        |     1,288,126 |\n",
      "| Cuyahoga County      | Ohio           |     1,255,921 |\n",
      "| Franklin County      | Ohio           |     1,251,722 |\n",
      "| Oakland County       | Michigan       |     1,242,304 |\n",
      "| Allegheny County     | Pennsylvania   |     1,230,459 |\n",
      "| Hennepin County      | Minnesota      |     1,223,149 |\n",
      "| Travis County        | Texas          |     1,176,558 |\n",
      "| Fairfax County       | Virginia       |     1,142,234 |\n",
      "| Contra Costa County  | California     |     1,126,745 |\n",
      "| Salt Lake County     | Utah           |     1,107,314 |\n",
      "| Montgomery County    | Maryland       |     1,040,116 |\n",
      "| Mecklenburg County   | North Carolina |     1,034,070 |\n",
      "| Wake County          | North Carolina |     1,024,198 |\n",
      "| Fulton County        | Georgia        |     1,010,562 |\n",
      "| Pima County          | Arizona        |     1,010,025 |\n",
      "| St. Louis County     | Missouri       |     1,003,362 |\n",
      "| Honolulu County      | Hawaii         |       998,714 |\n",
      "| Westchester County   | New York       |       976,396 |\n",
      "| Fresno County        | California     |       974,861 |\n",
      "| Milwaukee County     | Wisconsin      |       957,735 |\n",
      "| Pinellas County      | Florida        |       949,827 |\n",
      "| ...                  | ...            |           ... |\n"
     ]
    },
    {
     "name": "stderr",
     "output_type": "stream",
     "text": [
      "/System/Library/Frameworks/Python.framework/Versions/2.7/lib/python2.7/json/encoder.py:207: DeprecationWarning: Interpreting naive datetime as local 2017-03-06 18:39:39.793388. Please add timezone info to timestamps.\n"
     ]
    }
   ],
   "source": [
    "pop_counties = rounded_change.order_by('estimate_2015', reverse=True)\n",
    "pop_counties.select(['county', 'state', 'estimate_2015']).print_table(max_rows=50)"
   ]
  },
  {
   "cell_type": "code",
   "execution_count": 30,
   "metadata": {
    "collapsed": false
   },
   "outputs": [
    {
     "name": "stderr",
     "output_type": "stream",
     "text": [
      "/System/Library/Frameworks/Python.framework/Versions/2.7/lib/python2.7/json/encoder.py:207: DeprecationWarning: Interpreting naive datetime as local 2017-03-07 00:18:49.138222. Please add timezone info to timestamps.\n"
     ]
    }
   ],
   "source": [
    "change_avg = rounded_change.aggregate([('avg_change', agate.Mean('change_rounded'))])\n"
   ]
  },
  {
   "cell_type": "code",
   "execution_count": 31,
   "metadata": {
    "collapsed": false
   },
   "outputs": [
    {
     "ename": "AttributeError",
     "evalue": "'OrderedDict' object has no attribute 'order_by'",
     "output_type": "error",
     "traceback": [
      "\u001b[0;31m---------------------------------------------------------------------------\u001b[0m",
      "\u001b[0;31mAttributeError\u001b[0m                            Traceback (most recent call last)",
      "\u001b[0;32m<ipython-input-31-d40f6a7257db>\u001b[0m in \u001b[0;36m<module>\u001b[0;34m()\u001b[0m\n\u001b[0;32m----> 1\u001b[0;31m \u001b[0mchange_avg\u001b[0m\u001b[0;34m.\u001b[0m\u001b[0morder_by\u001b[0m\u001b[0;34m(\u001b[0m\u001b[0;34m'avg_change'\u001b[0m\u001b[0;34m,\u001b[0m \u001b[0mreverse\u001b[0m\u001b[0;34m=\u001b[0m\u001b[0mTrue\u001b[0m\u001b[0;34m)\u001b[0m\u001b[0;34m.\u001b[0m\u001b[0mprint_table\u001b[0m\u001b[0;34m(\u001b[0m\u001b[0;34m)\u001b[0m\u001b[0;34m\u001b[0m\u001b[0m\n\u001b[0m",
      "\u001b[0;31mAttributeError\u001b[0m: 'OrderedDict' object has no attribute 'order_by'"
     ]
    },
    {
     "name": "stderr",
     "output_type": "stream",
     "text": [
      "/System/Library/Frameworks/Python.framework/Versions/2.7/lib/python2.7/json/encoder.py:207: DeprecationWarning: Interpreting naive datetime as local 2017-03-07 00:18:53.574458. Please add timezone info to timestamps.\n"
     ]
    }
   ],
   "source": [
    "change_avg.order_by('avg_change', reverse=True).print_table()"
   ]
  },
  {
   "cell_type": "code",
   "execution_count": null,
   "metadata": {
    "collapsed": true
   },
   "outputs": [],
   "source": []
  }
 ],
 "metadata": {
  "kernelspec": {
   "display_name": "Python 2",
   "language": "python",
   "name": "python2"
  },
  "language_info": {
   "codemirror_mode": {
    "name": "ipython",
    "version": 2
   },
   "file_extension": ".py",
   "mimetype": "text/x-python",
   "name": "python",
   "nbconvert_exporter": "python",
   "pygments_lexer": "ipython2",
   "version": "2.7.6"
  }
 },
 "nbformat": 4,
 "nbformat_minor": 2
}
